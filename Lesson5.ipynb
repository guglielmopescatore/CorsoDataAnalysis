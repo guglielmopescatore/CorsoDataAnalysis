{
 "cells": [
  {
   "cell_type": "code",
   "execution_count": null,
   "id": "df9da297",
   "metadata": {},
   "outputs": [],
   "source": [
    "# import pandas as pd\n",
    "# import requests\n",
    "# from bs4 import BeautifulSoup\n",
    "\n",
    "# def extract_short_summary(url):\n",
    "#     try:\n",
    "#         response = requests.get(url)\n",
    "#         if response.status_code == 200:\n",
    "#             soup = BeautifulSoup(response.content, 'html.parser')\n",
    "#             # Targeting the specific structure of the Short Summary\n",
    "#             summary_element = soup.find('span', id='Short_Summary')\n",
    "#             if summary_element:\n",
    "#                 summary_paragraph = summary_element.find_parent('h2').find_next_sibling('p')\n",
    "#                 if summary_paragraph:\n",
    "#                     return summary_paragraph.get_text(strip=True)\n",
    "#         return \"Summary not found or inaccessible\"\n",
    "#     except requests.RequestException as e:\n",
    "#         return f\"Error in accessing page: {e}\"\n",
    "\n",
    "# # Load the CSV file\n",
    "# df = pd.read_csv('Greys_Anatomy_Episodes_Cleaned.csv')\n",
    "\n",
    "# # Apply the function to each URL in the Title_Link column\n",
    "# df['Short Summary'] = df['Title_Link'].apply(extract_short_summary)\n",
    "\n",
    "# # Save the updated DataFrame to a new CSV file\n",
    "# df.to_csv('Greys_Anatomy_Episodes_Cleaned_with_summaries.csv', index=False)\n"
   ]
  },
  {
   "cell_type": "code",
   "execution_count": null,
   "id": "d538304f",
   "metadata": {},
   "outputs": [],
   "source": [
    "# !pip install --upgrade langchain\n",
    "# !pip install python-dotenv\n",
    "# !pip install docarray\n",
    "# !pip install tiktoken"
   ]
  },
  {
   "cell_type": "code",
   "execution_count": 1,
   "id": "03894637",
   "metadata": {},
   "outputs": [],
   "source": [
    "import os\n",
    "\n",
    "from dotenv import load_dotenv, find_dotenv\n",
    "_ = load_dotenv(find_dotenv()) # read local .env file"
   ]
  },
  {
   "cell_type": "code",
   "execution_count": 2,
   "id": "dae054a0",
   "metadata": {},
   "outputs": [],
   "source": [
    "llm_model = \"gpt-4-1106-preview\""
   ]
  },
  {
   "cell_type": "code",
   "execution_count": 3,
   "id": "052457af",
   "metadata": {},
   "outputs": [],
   "source": [
    "from langchain.chains import RetrievalQA\n",
    "from langchain.chat_models import ChatOpenAI\n",
    "from langchain.document_loaders import CSVLoader\n",
    "from langchain.vectorstores import DocArrayInMemorySearch\n",
    "from IPython.display import display, Markdown"
   ]
  },
  {
   "cell_type": "code",
   "execution_count": 4,
   "id": "ed7df6bb",
   "metadata": {},
   "outputs": [],
   "source": [
    "file = 'Greys_Anatomy_Episodes_Cleaned_with_summaries.csv'\n",
    "loader = CSVLoader(file_path=file)"
   ]
  },
  {
   "cell_type": "code",
   "execution_count": null,
   "id": "8e7ce081",
   "metadata": {},
   "outputs": [],
   "source": [
    "from langchain.indexes import VectorstoreIndexCreator"
   ]
  },
  {
   "cell_type": "code",
   "execution_count": null,
   "id": "923bd8e6",
   "metadata": {},
   "outputs": [],
   "source": [
    "index = VectorstoreIndexCreator(\n",
    "    vectorstore_cls=DocArrayInMemorySearch\n",
    ").from_loaders([loader])"
   ]
  },
  {
   "cell_type": "code",
   "execution_count": null,
   "id": "2fdc89ac",
   "metadata": {},
   "outputs": [],
   "source": [
    "query =\"Please list all the episodes with Meredith\""
   ]
  },
  {
   "cell_type": "markdown",
   "id": "57de989c",
   "metadata": {},
   "source": [
    "Please list all the episodes\n",
    "in which Derek kiss Meredith.\n",
    "\n",
    "Please list all the episodes\n",
    "in which Meredith cries.\n",
    "\n",
    "Please list all the episodes\n",
    "in which Callie cries.\n",
    "\n",
    "Please list all the episodes\n",
    "in which Owen returns to Seattle Grace.\n",
    "\n",
    "Are Callie and Arizona in a romantic relationship?\n",
    "\n",
    "With who is George in a romantic relationship?\n",
    "\n",
    "Who is Olivia?\n",
    "\n",
    "Who is Harper Avery?\n",
    "\n",
    "Who is Sofia?\n"
   ]
  },
  {
   "cell_type": "code",
   "execution_count": null,
   "id": "44ee394a",
   "metadata": {},
   "outputs": [],
   "source": [
    "response = index.query(query)"
   ]
  },
  {
   "cell_type": "code",
   "execution_count": null,
   "id": "e0f9e6fa",
   "metadata": {},
   "outputs": [],
   "source": [
    "display(Markdown(response))"
   ]
  },
  {
   "cell_type": "code",
   "execution_count": 5,
   "id": "d287f587",
   "metadata": {},
   "outputs": [],
   "source": [
    "from langchain.document_loaders import CSVLoader\n",
    "loader = CSVLoader(file_path=file)"
   ]
  },
  {
   "cell_type": "code",
   "execution_count": 6,
   "id": "23a40bf7",
   "metadata": {},
   "outputs": [],
   "source": [
    "docs = loader.load()"
   ]
  },
  {
   "cell_type": "code",
   "execution_count": 7,
   "id": "04da870c",
   "metadata": {},
   "outputs": [
    {
     "data": {
      "text/plain": [
       "Document(page_content='Season: Season 1\\nNo. in series: 1\\nNo. in season: 1\\nTitle_Text: \"A Hard Day\\'s Night\"\\nTitle_Link: https://greysanatomy.fandom.com/wiki/A_Hard_Day%27s_Night\\nOriginal air date: March 27, 2005\\nU.S. viewers (millions): 16.25\\nShort Summary: Meredith Grey, Izzie Stevens, George O\\'Malley, Cristina Yang, and Alex Karev become interns at Seattle Grace Hospital. Meredith discovers that her one night stand was actually with one of her bosses and she and her new friends discover that being a surgeon isn\\'t as easy or fun as they thought it would be.', metadata={'source': 'Greys_Anatomy_Episodes_Cleaned_with_summaries.csv', 'row': 0})"
      ]
     },
     "execution_count": 7,
     "metadata": {},
     "output_type": "execute_result"
    }
   ],
   "source": [
    "docs[0]"
   ]
  },
  {
   "cell_type": "code",
   "execution_count": 8,
   "id": "0da2b0df",
   "metadata": {},
   "outputs": [],
   "source": [
    "from langchain.embeddings import OpenAIEmbeddings\n",
    "embeddings = OpenAIEmbeddings()"
   ]
  },
  {
   "cell_type": "code",
   "execution_count": 9,
   "id": "141d76bd",
   "metadata": {},
   "outputs": [],
   "source": [
    "embed = embeddings.embed_query(\"Hi my name is Harrison\")"
   ]
  },
  {
   "cell_type": "code",
   "execution_count": 10,
   "id": "0e5b6204",
   "metadata": {},
   "outputs": [
    {
     "name": "stdout",
     "output_type": "stream",
     "text": [
      "1536\n"
     ]
    }
   ],
   "source": [
    "print(len(embed))"
   ]
  },
  {
   "cell_type": "code",
   "execution_count": 11,
   "id": "62eb15cf",
   "metadata": {},
   "outputs": [
    {
     "name": "stdout",
     "output_type": "stream",
     "text": [
      "[-0.021867523073664942, 0.006806864435505972, -0.018180996265900723, -0.03910486791222714, -0.014066680401294437]\n"
     ]
    }
   ],
   "source": [
    "print(embed[:5])"
   ]
  },
  {
   "cell_type": "code",
   "execution_count": 12,
   "id": "76cd60c9",
   "metadata": {},
   "outputs": [],
   "source": [
    "db = DocArrayInMemorySearch.from_documents(\n",
    "    docs, \n",
    "    embeddings\n",
    ")"
   ]
  },
  {
   "cell_type": "code",
   "execution_count": 13,
   "id": "152c3c3e",
   "metadata": {},
   "outputs": [],
   "source": [
    "query = \"Please list all \\\n",
    "episodes about covid\""
   ]
  },
  {
   "cell_type": "code",
   "execution_count": 14,
   "id": "6c8a2639",
   "metadata": {},
   "outputs": [],
   "source": [
    "docs = db.similarity_search(query)"
   ]
  },
  {
   "cell_type": "code",
   "execution_count": 15,
   "id": "a6033ecf",
   "metadata": {},
   "outputs": [
    {
     "data": {
      "text/plain": [
       "4"
      ]
     },
     "execution_count": 15,
     "metadata": {},
     "output_type": "execute_result"
    }
   ],
   "source": [
    "len(docs)"
   ]
  },
  {
   "cell_type": "code",
   "execution_count": 16,
   "id": "358cad19",
   "metadata": {},
   "outputs": [],
   "source": [
    "retriever = db.as_retriever()"
   ]
  },
  {
   "cell_type": "code",
   "execution_count": 17,
   "id": "8decc345",
   "metadata": {},
   "outputs": [],
   "source": [
    "llm = ChatOpenAI(temperature = 0.0, model=llm_model)"
   ]
  },
  {
   "cell_type": "code",
   "execution_count": 18,
   "id": "f5737a6d",
   "metadata": {},
   "outputs": [],
   "source": [
    "qdocs = \"\".join([docs[i].page_content for i in range(len(docs))])"
   ]
  },
  {
   "cell_type": "code",
   "execution_count": 23,
   "id": "07491985",
   "metadata": {},
   "outputs": [],
   "source": [
    "response = llm.call_as_llm(f\"{qdocs} Question: Please list all \\\n",
    "episodes about covid in a table and report the summary. The table should be in markdown.\") "
   ]
  },
  {
   "cell_type": "code",
   "execution_count": 24,
   "id": "7fde85f3",
   "metadata": {},
   "outputs": [
    {
     "data": {
      "text/markdown": [
       "Here is a markdown table listing the episodes of \"Grey's Anatomy\" that specifically address the COVID-19 pandemic, along with their summaries:\n",
       "\n",
       "```markdown\n",
       "| Season | Episode | Title                     | Air Date       | U.S. Viewers (Millions) | Summary                                                                                                                                                                                                                   |\n",
       "|--------|---------|---------------------------|----------------|-------------------------|---------------------------------------------------------------------------------------------------------------------------------------------------------------------------------------------------------------------------|\n",
       "| 17     | 1       | All Tomorrow's Parties    | November 12, 2020 | 5.93                    | In the midst of the early days of the COVID-19 pandemic, Grey Sloan Memorial and its surgeons' lives have been turned upside down. The season 17 premiere picks up one month into the pandemic, and it's all-hands-on-deck as Meredith, Bailey, and the rest of the Grey Sloan doctors find themselves on the frontlines of a new era. Meanwhile, an unintentionally started fire has first responders from Station 19 bringing patients into the hospital for treatment. |\n",
       "| 17     | 2       | The Center Won't Hold     | November 12, 2020 | N/A                     | Bailey finds herself in the middle of an argument with patients' families as they await news about their children who were injured in a fire. Winston surprises Maggie, and Amelia and Link try to have some fun as new parents. Teddy learns her colleagues know more than she may like about her relationship woes with Owen.                                                                                                      |\n",
       "| 17     | 3       | My Happy Ending           | November 19, 2020 | N/A                     | The Grey Sloan doctors continue to face their new COVID-19 reality and deal with a familiar and stubborn patient. Koracick is put in charge of the interns who recently joined the hospital ranks and Link operates on a sex therapist. Elsewhere, Maggie finds comfort in Winston's virtual presence.                                                                                                  |\n",
       "| 17     | 4       | You'll Never Walk Alone   | December 3, 2020  | N/A                     | Owen faces a medical diagnosis that challenges more than he imagined. Koracick begins to go stir crazy. Maggie gets a not-so-subtle glimpse into Winston's background.                                                                                                                                                                                                 |\n",
       "| 17     | 5       | Fight the Power           | December 10, 2020 | N/A                     | Bailey panics as she hears there has been a surge of COVID-19 cases, knowing she has loved ones in an assisted living facility. Meanwhile, Jackson and Richard team up against Catherine to teach her a lesson, and Teddy continues to try to mend her frayed relationships. After an intense surgery, Jo is uncertain about her future.                                                                 |\n",
       "| 17     | 6       | No Time for Despair       | December 17, 2020 | N/A                     | Grey Sloan Memorial faces new pressures as Seattle Pres is overloaded, and Grey Sloan Memorial is now on surge capacity protocol. Meanwhile, Owen and Amelia are faced with one of the most controversial surgeries of their careers.                                                                                                                                  |\n",
       "| 17     | 7       | Helplessly Hoping         | March 11, 2021    | N/A                     | The doctors are joined by the team from Station 19 as they tend to a tense situation with a lot at stake. Jo convinces Hayes to bend the rules on a case, and Maggie and Winston reconnect.                                                                                                                                                                             |\n",
       "| 17     | 8       | It's All Too Much         | March 18, 2021    | N/A                     | As traumas and pressure mount, Grey Sloan doctors try to find a path forward, and Richard questions his faith. Meanwhile, Jo, Link, and Jackson play an unconventional drinking game.                                                                                                                                                                                     |\n",
       "| 17     | 9       | In My Life                | March 25, 2021    | N/A                     | After a heart-wrenching loss, Teddy struggles to cope and it triggers memories of her past. When Owen brings her home, she must face some long-standing truths. Meanwhile, Amelia tries to help the situation by encouraging Owen to accept and forgive Teddy.                                                                                                             |\n",
       "| 17     | 10      | Breathe                  | April 1, 2021      | N/A                     | The hospital ventilator shortage has the doctors gravely concerned when both a mother and daughter are in critical condition with COVID and fighting over the last ventilator. Meanwhile, Hayes' high-risk sister-in-law with multiple sclerosis ends up in the hospital with a kidney stone, and the sisters confront a long-held secret.                                                                 |\n",
       "| 17     | 11      | Sorry Doesn't Always Make It Right | April 8, 2021      | N/A                     | The Grey Sloan doctors are stuck in the middle of a fight between a newlywed couple who are injured in a car accident and brought to the hospital for treatment. Meanwhile, Jackson's generosity with COVID-positive patients goes a bit too far, and Hayes works to rebuild Maggie's confidence and convince her to perform an extremely risky heart surgery.                                                                 |\n",
       "| 17     | 12      | Sign O' the Times         | April 15, 2021    | N/A                     | While Meredith remains on a ventilator in the ICU, the team reflects on the impact of COVID-19 and the protests against police brutality. Meanwhile, Jackson pays a visit to his father that helps set him on the right path.                                                                                                                                              |\n",
       "| 17     | 13      | Good as Hell              | April 22, 2021    | N/A                     | Amidst the need for more surgeons,"
      ],
      "text/plain": [
       "<IPython.core.display.Markdown object>"
      ]
     },
     "metadata": {},
     "output_type": "display_data"
    }
   ],
   "source": [
    "display(Markdown(response))"
   ]
  },
  {
   "cell_type": "code",
   "execution_count": null,
   "id": "60ff3bd2",
   "metadata": {},
   "outputs": [],
   "source": []
  }
 ],
 "metadata": {
  "kernelspec": {
   "display_name": "Python 3 (ipykernel)",
   "language": "python",
   "name": "python3"
  },
  "language_info": {
   "codemirror_mode": {
    "name": "ipython",
    "version": 3
   },
   "file_extension": ".py",
   "mimetype": "text/x-python",
   "name": "python",
   "nbconvert_exporter": "python",
   "pygments_lexer": "ipython3",
   "version": "3.10.13"
  }
 },
 "nbformat": 4,
 "nbformat_minor": 5
}
