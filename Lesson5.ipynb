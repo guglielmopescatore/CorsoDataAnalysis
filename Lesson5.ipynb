{
 "cells": [
  {
   "cell_type": "code",
   "execution_count": 1,
   "id": "c0726dc3",
   "metadata": {},
   "outputs": [],
   "source": [
    "# import pandas as pd\n",
    "# import requests\n",
    "# from bs4 import BeautifulSoup\n",
    "\n",
    "# def extract_short_summary(url):\n",
    "#     try:\n",
    "#         response = requests.get(url)\n",
    "#         if response.status_code == 200:\n",
    "#             soup = BeautifulSoup(response.content, 'html.parser')\n",
    "#             # Targeting the specific structure of the Short Summary\n",
    "#             summary_element = soup.find('span', id='Short_Summary')\n",
    "#             if summary_element:\n",
    "#                 summary_paragraph = summary_element.find_parent('h2').find_next_sibling('p')\n",
    "#                 if summary_paragraph:\n",
    "#                     return summary_paragraph.get_text(strip=True)\n",
    "#         return \"Summary not found or inaccessible\"\n",
    "#     except requests.RequestException as e:\n",
    "#         return f\"Error in accessing page: {e}\"\n",
    "\n",
    "# # Load the CSV file\n",
    "# df = pd.read_csv('Greys_Anatomy_Episodes_Cleaned.csv')\n",
    "\n",
    "# # Apply the function to each URL in the Title_Link column\n",
    "# df['Short Summary'] = df['Title_Link'].apply(extract_short_summary)\n",
    "\n",
    "# # Save the updated DataFrame to a new CSV file\n",
    "# df.to_csv('Greys_Anatomy_Episodes_Cleaned_with_summaries.csv', index=False)\n"
   ]
  },
  {
   "cell_type": "code",
   "execution_count": null,
   "id": "bc2c7e34",
   "metadata": {},
   "outputs": [],
   "source": [
    "# !pip install --upgrade langchain\n",
    "# !pip install python-dotenv\n",
    "# !pip install docarray\n",
    "# !pip install tiktoken"
   ]
  },
  {
   "cell_type": "code",
   "execution_count": null,
   "id": "c69cae04",
   "metadata": {},
   "outputs": [],
   "source": [
    "import os\n",
    "\n",
    "from dotenv import load_dotenv, find_dotenv\n",
    "_ = load_dotenv(find_dotenv()) # read local .env file"
   ]
  },
  {
   "cell_type": "code",
   "execution_count": null,
   "id": "ab17aec8",
   "metadata": {},
   "outputs": [],
   "source": [
    "from langchain.chains import RetrievalQA\n",
    "from langchain.chat_models import ChatOpenAI\n",
    "from langchain.document_loaders import CSVLoader\n",
    "from langchain.vectorstores import DocArrayInMemorySearch\n",
    "from IPython.display import display, Markdown"
   ]
  },
  {
   "cell_type": "code",
   "execution_count": null,
   "id": "dfdc95da",
   "metadata": {},
   "outputs": [],
   "source": [
    "file = 'Greys_Anatomy_Episodes_Cleaned_with_summaries.csv'\n",
    "loader = CSVLoader(file_path=file)"
   ]
  },
  {
   "cell_type": "code",
   "execution_count": null,
   "id": "89848bee",
   "metadata": {},
   "outputs": [],
   "source": [
    "index = VectorstoreIndexCreator(\n",
    "    vectorstore_cls=DocArrayInMemorySearch\n",
    ").from_loaders([loader])"
   ]
  },
  {
   "cell_type": "code",
   "execution_count": null,
   "id": "79cf841f",
   "metadata": {},
   "outputs": [],
   "source": [
    "query =\"Who is Gus?\""
   ]
  },
  {
   "cell_type": "markdown",
   "id": "7b4d2f5a",
   "metadata": {},
   "source": [
    "Please list all the episodes\n",
    "in which Derek kiss Meredith.\n",
    "\n",
    "Please list all the episodes\n",
    "in which Meredith cries.\n",
    "\n",
    "Please list all the episodes\n",
    "in which Callie cries.\n",
    "\n",
    "Please list all the episodes\n",
    "in which Owen returns to Seattle Grace.\n",
    "\n",
    "Are Callie and Arizona in a romantic relationship?\n",
    "\n",
    "With who is George in a romantic relationship?\n",
    "\n",
    "Who is Olivia?\n",
    "\n",
    "Who is Harper Avery?\n",
    "\n",
    "Who is Sofia?\n"
   ]
  },
  {
   "cell_type": "code",
   "execution_count": null,
   "id": "88acf264",
   "metadata": {},
   "outputs": [],
   "source": [
    "response = index.query(query)"
   ]
  },
  {
   "cell_type": "code",
   "execution_count": null,
   "id": "c505f2c1",
   "metadata": {},
   "outputs": [],
   "source": [
    "display(Markdown(response))"
   ]
  }
 ],
 "metadata": {
  "kernelspec": {
   "display_name": "Python 3 (ipykernel)",
   "language": "python",
   "name": "python3"
  },
  "language_info": {
   "codemirror_mode": {
    "name": "ipython",
    "version": 3
   },
   "file_extension": ".py",
   "mimetype": "text/x-python",
   "name": "python",
   "nbconvert_exporter": "python",
   "pygments_lexer": "ipython3",
   "version": "3.10.13"
  }
 },
 "nbformat": 4,
 "nbformat_minor": 5
}
