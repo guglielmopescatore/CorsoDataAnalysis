{
 "cells": [
  {
   "cell_type": "markdown",
   "id": "5c5b1e71",
   "metadata": {},
   "source": [
    "\n",
    "# Lecture 1: Introduction to Data Analysis and Its Importance in Media Studies\n",
    "Date: November 9, 2023  \n",
    "Duration: 3 hours\n",
    "\n",
    "## Table of Contents\n",
    "1. [Introduction and Course Overview](#Introduction-and-Course-Overview)\n",
    "2. [The Role of Data Analysis in Media](#The-Role-of-Data-Analysis-in-Media)\n",
    "3. [Types of Data](#Types-of-Data)\n",
    "4. [Python Data Types](#Python-Data-Types)\n",
    "5. [Q&A and Discussion](#QnA-and-Discussion)\n",
    "\n",
    "## Introduction and Course Overview\n",
    "\n",
    "Welcome to the first lecture of our course on Data Analysis for Media! This course aims to introduce you to the fascinating world of data analysis and its applications in media studies. By the end of this course, you should be able to:\n",
    "\n",
    "- Understand the significance of data analysis in the media industry\n",
    "- Identify various types of data relevant to media studies\n",
    "- Perform basic data analysis tasks using Python\n",
    "\n",
    "## Why Python?\n",
    "\n",
    "Python is a versatile programming language widely used in various fields, including data science and media studies. Its simplicity and extensive libraries make it a popular choice for data analysis."
   ]
  },
  {
   "cell_type": "markdown",
   "id": "1f3b8853",
   "metadata": {},
   "source": [
    "\n",
    "## The Role of Data Analysis in Media\n",
    "\n",
    "Data analysis plays a critical role in understanding and shaping the media landscape. Here are some of the key areas where data analysis is vital:\n",
    "\n",
    "### Importance in Content Creation\n",
    "\n",
    "Data can help creators understand what kind of content resonates with their audience. Metrics like viewer engagement, watch time, and social shares can offer valuable insights.\n",
    "\n",
    "### Marketing\n",
    "\n",
    "Marketing strategies can be honed with the help of data analytics. For instance, analyzing consumer behavior and preferences can inform targeted advertising campaigns.\n",
    "\n",
    "### Audience Targeting\n",
    "\n",
    "Data analytics allows media companies to segment their audience based on various metrics like age, location, and interests, facilitating more personalized content delivery.\n"
   ]
  },
  {
   "cell_type": "markdown",
   "id": "be55b88b",
   "metadata": {},
   "source": [
    "## Types of Data\n",
    "\n",
    "Data can come in many forms, and understanding the type of data you are working with is crucial for effective analysis.\n",
    "\n",
    "### Structured vs Unstructured Data\n",
    "\n",
    "- **Structured Data**: This is data that is organized into tables, like databases or Excel sheets. It's easier to analyze.\n",
    "- **Unstructured Data**: This includes text, images, sound, video, etc. It's more complex to analyze but often contains richer information.\n",
    "\n",
    "Types of Media Data\n",
    "\n",
    "- Text: Articles, transcripts, etc.\n",
    "- Audio: Podcasts, music, etc.\n",
    "- Video: Movies, YouTube videos, etc.\n",
    "- Social: Tweets, social media posts, etc.\n",
    "- Web: Clickstream data, web logs, etc."
   ]
  },
  {
   "cell_type": "markdown",
   "id": "f3453826",
   "metadata": {},
   "source": [
    "### Structured Data\n",
    "#### What is Structured Data?\n",
    "Structured data is highly organized data that exists within a repository such as a database.\n",
    "\n",
    "#### Examples in Media\n",
    "- Viewer statistics in a database\n",
    "- Financial transactions\n",
    "\n",
    "#### Operations on Structured Data\n",
    "##### Reading from a CSV File\n",
    "Python code to read a CSV file into a DataFrame using the pandas library:"
   ]
  },
  {
   "cell_type": "code",
   "execution_count": null,
   "id": "f262acf4",
   "metadata": {},
   "outputs": [],
   "source": [
    "\n",
    "import pandas as pd\n",
    "# Read data from a CSV file (Note: The file should exist in your directory)\n",
    "df = pd.read_csv('viewer_statistics.csv')\n",
    "# Display the first 5 rows of the DataFrame\n",
    "df.head()\n"
   ]
  },
  {
   "cell_type": "markdown",
   "id": "5237f50d",
   "metadata": {},
   "source": [
    "\n",
    "### Semi-Structured Data\n",
    "#### What is Semi-Structured Data?\n",
    "Semi-structured data is information that doesn't reside in a relational database but still has some organizational properties.\n",
    "\n",
    "#### Examples in Media\n",
    "- Metadata of a video or audio file\n",
    "- Social media data\n",
    "\n",
    "#### Operations on Semi-Structured Data\n",
    "##### Parsing a JSON File\n",
    "Python code to parse a JSON file:\n"
   ]
  },
  {
   "cell_type": "code",
   "execution_count": null,
   "id": "0a21f4c7",
   "metadata": {},
   "outputs": [],
   "source": [
    "\n",
    "import json\n",
    "# Read data from a JSON file\n",
    "with open('video_metadata.json', 'r') as f:\n",
    "    data = json.load(f)\n",
    "# Display the video title\n",
    "print(data['title'])\n"
   ]
  },
  {
   "cell_type": "markdown",
   "id": "c918360d",
   "metadata": {},
   "source": [
    "### Unstructured Data\n",
    "#### What is Unstructured Data?\n",
    "\n",
    "Unstructured data is information that is neither categorized nor easily searchable, including text, images, and more.\n",
    "\n",
    "#### Examples in Media\n",
    "- Text of an article\n",
    "- Video files\n",
    "\n",
    "#### Operations on Unstructured Data\n",
    "#### Text Analysis\n",
    "\n",
    "Python code to perform basic text analysis:"
   ]
  },
  {
   "cell_type": "code",
   "execution_count": null,
   "id": "c95ae5ed",
   "metadata": {},
   "outputs": [],
   "source": [
    "from collections import Counter\n",
    "\n",
    "# Sample text from an article\n",
    "text = \"Data analysis is important in media studies.\"\n",
    "\n",
    "# Count the frequency of each word\n",
    "word_counts = Counter(text.split())\n",
    "\n",
    "# Display the frequency of each word\n",
    "print(word_counts)\n"
   ]
  },
  {
   "cell_type": "markdown",
   "id": "8830cf1a",
   "metadata": {},
   "source": [
    "\n",
    "## Python Data Types\n",
    "In Python, data types are crucial because they determine what operations you can perform on your data.\n"
   ]
  },
  {
   "cell_type": "code",
   "execution_count": null,
   "id": "e7300b09",
   "metadata": {},
   "outputs": [],
   "source": [
    "# Integer: Whole numbers without a fractional component.\n",
    "# Example: Counting the number of viewers for a media event.\n",
    "x = 10\n",
    "print(type(x))\n",
    "\n",
    "# Operations: Addition, Subtraction, Multiplication, Division\n",
    "result = x + 5\n",
    "print(\"Result of addition:\", result)"
   ]
  },
  {
   "cell_type": "code",
   "execution_count": null,
   "id": "1fd51b68",
   "metadata": {},
   "outputs": [],
   "source": [
    "# Float: Numbers with a decimal point.\n",
    "# Example: Representing the average rating for a movie.\n",
    "y = 10.5\n",
    "print(type(y))\n",
    "\n",
    "# Operations: Floating-point arithmetic\n",
    "result = y * 2\n",
    "print(\"Result of multiplication:\", result)"
   ]
  },
  {
   "cell_type": "code",
   "execution_count": null,
   "id": "d84259cf",
   "metadata": {},
   "outputs": [],
   "source": [
    "# Boolean: Represents True or False values.\n",
    "# Example: Flag to indicate if a media file is active or not.\n",
    "is_active = True\n",
    "print(type(is_active))\n",
    "\n",
    "# Operations: Logical operations (and, or, not)\n",
    "result = not is_active\n",
    "print(\"Result of NOT operation:\", result)"
   ]
  },
  {
   "cell_type": "code",
   "execution_count": null,
   "id": "3140f77f",
   "metadata": {},
   "outputs": [],
   "source": [
    "# String: Sequence of characters.\n",
    "# Example: Titles, descriptions in media.\n",
    "text = \"Hello, Media Studies!\"\n",
    "print(type(text))\n",
    "\n",
    "# Operations: Concatenation, Substring, Length\n",
    "result = text.lower()\n",
    "print(\"Lowercase string:\", result)"
   ]
  },
  {
   "cell_type": "code",
   "execution_count": null,
   "id": "58633575",
   "metadata": {},
   "outputs": [],
   "source": [
    "# List: Ordered collection of items.\n",
    "# Example: List of media types supported by an application.\n",
    "media_types = ['Text', 'Audio', 'Video']\n",
    "print(type(media_types))\n",
    "\n",
    "# Operations: Append, Remove, Indexing\n",
    "media_types.append('Image')\n",
    "print(\"List after appending:\", media_types)"
   ]
  },
  {
   "cell_type": "code",
   "execution_count": null,
   "id": "852c7598",
   "metadata": {},
   "outputs": [],
   "source": [
    "# Tuple: Immutable ordered collection of items.\n",
    "# Example: X, Y coordinates in a video frame.\n",
    "coordinates = (4, 5)\n",
    "print(type(coordinates))\n",
    "\n",
    "# Operations: Indexing, Slicing\n",
    "result = coordinates[0]\n",
    "print(\"First element of tuple:\", result)"
   ]
  },
  {
   "cell_type": "code",
   "execution_count": null,
   "id": "8a66661f",
   "metadata": {},
   "outputs": [],
   "source": [
    "# Dictionary: Key-value pairs.\n",
    "# Example: Metadata for a video file.\n",
    "video_metadata = {'title': 'Intro to Data Analysis', 'duration': '10m'}\n",
    "print(type(video_metadata))\n",
    "\n",
    "# Operations: Add, Remove, Update key-value pairs\n",
    "video_metadata['author'] = 'John Doe'\n",
    "print(\"Dictionary after adding a new key-value pair:\", video_metadata)"
   ]
  },
  {
   "cell_type": "markdown",
   "id": "485f735e",
   "metadata": {},
   "source": [
    "\n",
    "## Q&A and Discussion\n",
    "This section is reserved for any questions you may have and to facilitate open discussion.\n"
   ]
  },
  {
   "cell_type": "code",
   "execution_count": null,
   "id": "1406041c",
   "metadata": {},
   "outputs": [],
   "source": []
  }
 ],
 "metadata": {
  "kernelspec": {
   "display_name": "Python 3 (ipykernel)",
   "language": "python",
   "name": "python3"
  },
  "language_info": {
   "codemirror_mode": {
    "name": "ipython",
    "version": 3
   },
   "file_extension": ".py",
   "mimetype": "text/x-python",
   "name": "python",
   "nbconvert_exporter": "python",
   "pygments_lexer": "ipython3",
   "version": "3.10.13"
  }
 },
 "nbformat": 4,
 "nbformat_minor": 5
}
