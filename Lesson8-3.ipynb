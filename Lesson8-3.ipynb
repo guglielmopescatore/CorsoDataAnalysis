{
 "cells": [
  {
   "cell_type": "markdown",
   "id": "b30ee915",
   "metadata": {},
   "source": [
    "# Lecture 8: Assessing Gender Gap Off-Screen in Serial Production (Part 2)\n",
    "Date: December 1, 2023\n",
    "Duration: 3 hours\n",
    "\n",
    "## Outline\n"
   ]
  },
  {
   "cell_type": "markdown",
   "id": "8c63f844",
   "metadata": {},
   "source": [
    "### Data visualization (30 minutes)\n",
    "- Tools and techniques"
   ]
  },
  {
   "cell_type": "code",
   "execution_count": null,
   "id": "2c8fa118",
   "metadata": {},
   "outputs": [],
   "source": [
    "def aggregation(field):\n",
    "    #Inserire qui la stringa di connessione a MongoDB con il proprio nome utente e password\n",
    "    client = pymongo.MongoClient('mongodb-striga-connessione')\n",
    "    #Indicare qui il nome del database e della collection generati da IMDb2Mongo\n",
    "    result = client['database']['collection'].aggregate([\n",
    "    {\n",
    "        '$match': {\n",
    "            f'{field}': {\n",
    "                '$exists': True, \n",
    "                '$ne': []\n",
    "            }\n",
    "        }\n",
    "    }, {\n",
    "        '$project': {\n",
    "            '_id': 0, \n",
    "            f'{field}': 1, \n",
    "            'year': 1\n",
    "        }\n",
    "    }, {\n",
    "        '$unwind': {\n",
    "            'path': f'${field}'\n",
    "        }\n",
    "    }, {\n",
    "        '$addFields':{\n",
    "        f\"{field}.code\": f'${field}._id',\n",
    "        f\"{field}.role\": f'{field}',\n",
    "        f\"{field}.year\": '$year'\n",
    "    }\n",
    "    }, {\n",
    "        '$replaceRoot': {\n",
    "            'newRoot': f'${field}'\n",
    "        }\n",
    "    },{\n",
    "        '$project': {\n",
    "            '_id': 0\n",
    "        }\n",
    "    },{\n",
    "        '$merge': {\n",
    "# Inserire qui il nome della Crew Collection che verrà salvata su MongoDB\n",
    "            'into':'crew-collection'\n",
    "        }\n",
    "    }\n",
    "]) "
   ]
  },
  {
   "cell_type": "code",
   "execution_count": null,
   "id": "87341de5",
   "metadata": {},
   "outputs": [],
   "source": [
    "def main():\n",
    "    # I fields vanno controllati e eventualmente aggiunti i nuovi\n",
    "    fields = ['art department', 'art direction', 'assistant director', 'camera and electrical department', 'cast', 'casting department', 'casting director', 'cinematographer', 'composer', 'costume department', 'costume designer', 'creator', 'director', 'editor', 'editorial department', 'location management', 'make up', 'miscellaneous crew', 'music department', 'producer', 'production design', 'production manager', 'script department', 'set decoration', 'sound crew', 'special effects', 'stunt performer', 'visual effects', 'writer']\n",
    "    for field in fields:\n",
    "        aggregation(field)"
   ]
  },
  {
   "cell_type": "code",
   "execution_count": null,
   "id": "efcf93e4",
   "metadata": {},
   "outputs": [],
   "source": [
    "main()"
   ]
  },
  {
   "cell_type": "markdown",
   "id": "d519671c",
   "metadata": {},
   "source": [
    "## Genderize dataset"
   ]
  },
  {
   "cell_type": "code",
   "execution_count": null,
   "id": "0ba06d5b",
   "metadata": {},
   "outputs": [],
   "source": [
    "crew = pd.read_csv(\"Crew_significant03112022.csv\", sep=',')\n",
    "gender = pd.read_csv(\"names_gendered_rev_ita.14.09.2022.csv\", sep=',')"
   ]
  },
  {
   "cell_type": "code",
   "execution_count": null,
   "id": "a419fbbc",
   "metadata": {},
   "outputs": [],
   "source": [
    "crew.rename(columns = {'code':'nconst'}, inplace = True)"
   ]
  },
  {
   "cell_type": "code",
   "execution_count": null,
   "id": "98ad9ecc",
   "metadata": {},
   "outputs": [],
   "source": [
    "crew_gender = crew.merge(gender, how='left')"
   ]
  },
  {
   "cell_type": "code",
   "execution_count": null,
   "id": "2ee4efeb",
   "metadata": {},
   "outputs": [],
   "source": [
    "crew_gender.head()"
   ]
  },
  {
   "cell_type": "code",
   "execution_count": null,
   "id": "51772b41",
   "metadata": {},
   "outputs": [],
   "source": [
    "crew_gender.drop('name', axis=1, inplace=True)"
   ]
  },
  {
   "cell_type": "code",
   "execution_count": null,
   "id": "fa07907a",
   "metadata": {},
   "outputs": [],
   "source": [
    "crew_gender.head()"
   ]
  },
  {
   "cell_type": "code",
   "execution_count": null,
   "id": "43805027",
   "metadata": {},
   "outputs": [],
   "source": [
    "crew_gender.to_csv(r\"crew_significant_gender.03.11.2022.csv\", index=False)"
   ]
  },
  {
   "cell_type": "markdown",
   "id": "4b0c1d9d",
   "metadata": {},
   "source": [
    "### Q&A and discussion (30 minutes)"
   ]
  }
 ],
 "metadata": {
  "kernelspec": {
   "display_name": "Python 3 (ipykernel)",
   "language": "python",
   "name": "python3"
  },
  "language_info": {
   "codemirror_mode": {
    "name": "ipython",
    "version": 3
   },
   "file_extension": ".py",
   "mimetype": "text/x-python",
   "name": "python",
   "nbconvert_exporter": "python",
   "pygments_lexer": "ipython3",
   "version": "3.10.13"
  }
 },
 "nbformat": 4,
 "nbformat_minor": 5
}
